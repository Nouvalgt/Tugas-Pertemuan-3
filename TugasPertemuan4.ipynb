{
  "nbformat": 4,
  "nbformat_minor": 0,
  "metadata": {
    "colab": {
      "provenance": [],
      "authorship_tag": "ABX9TyOfDM0B6AxdPr5AEc5/CVaJ",
      "include_colab_link": true
    },
    "kernelspec": {
      "name": "python3",
      "display_name": "Python 3"
    },
    "language_info": {
      "name": "python"
    }
  },
  "cells": [
    {
      "cell_type": "markdown",
      "metadata": {
        "id": "view-in-github",
        "colab_type": "text"
      },
      "source": [
        "<a href=\"https://colab.research.google.com/github/Nouvalgt/Tugas-Pertemuan-3/blob/main/TugasPertemuan4.ipynb\" target=\"_parent\"><img src=\"https://colab.research.google.com/assets/colab-badge.svg\" alt=\"Open In Colab\"/></a>"
      ]
    },
    {
      "cell_type": "code",
      "execution_count": 3,
      "metadata": {
        "colab": {
          "base_uri": "https://localhost:8080/"
        },
        "id": "0CXxvbTr3Yjm",
        "outputId": "01832ff2-84f9-47ee-942b-9dcf0af88be8"
      },
      "outputs": [
        {
          "output_type": "stream",
          "name": "stdout",
          "text": [
            "name        Markus\n",
            "region       South\n",
            "sales        34000\n",
            "expenses     44000\n",
            "Name: 3, dtype: object\n"
          ]
        }
      ],
      "source": [
        "import pandas as pd\n",
        "\n",
        "data = {\n",
        "    'name': ['William', 'Emma', 'Sofia', 'Markus', 'Edward', 'Thomas', 'Ethan', 'Olivia', 'Arun', 'Anika', 'Paulo'],\n",
        "    'region': ['East', 'North', 'East', 'South', 'West', 'West', 'South', 'West', 'West', 'East', 'South'],\n",
        "    'sales': [50000, 52000, 90000, 34000, 42000, 72000, 49000, 55000, 67000, 65000, 67000],\n",
        "    'expenses': [42000, 43000, 50000, 44000, 38000, 39000, 42000, 60000, 39000, 44000, 45000]\n",
        "}\n",
        "\n",
        "df = pd.DataFrame(data)\n",
        "\n",
        "df\n",
        "first_row = df.loc[3]\n",
        "\n",
        "print(first_row)\n"
      ]
    },
    {
      "cell_type": "code",
      "source": [
        "print(df.loc[3])\n"
      ],
      "metadata": {
        "colab": {
          "base_uri": "https://localhost:8080/"
        },
        "id": "hX7j2Vvk3nyF",
        "outputId": "523f0efb-0000-4c9c-921f-b5a94acbcfe0"
      },
      "execution_count": 2,
      "outputs": [
        {
          "output_type": "stream",
          "name": "stdout",
          "text": [
            "name        Markus\n",
            "region       South\n",
            "sales        34000\n",
            "expenses     44000\n",
            "Name: 3, dtype: object\n"
          ]
        }
      ]
    }
  ]
}