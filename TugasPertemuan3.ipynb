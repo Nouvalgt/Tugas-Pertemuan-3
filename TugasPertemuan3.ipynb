{
  "nbformat": 4,
  "nbformat_minor": 0,
  "metadata": {
    "colab": {
      "provenance": [],
      "authorship_tag": "ABX9TyP+yhQLFm2CkNS7rZs3niaH",
      "include_colab_link": true
    },
    "kernelspec": {
      "name": "python3",
      "display_name": "Python 3"
    },
    "language_info": {
      "name": "python"
    }
  },
  "cells": [
    {
      "cell_type": "markdown",
      "metadata": {
        "id": "view-in-github",
        "colab_type": "text"
      },
      "source": [
        "<a href=\"https://colab.research.google.com/github/Nouvalgt/Tugas-Pertemuan-3/blob/main/TugasPertemuan3.ipynb\" target=\"_parent\"><img src=\"https://colab.research.google.com/assets/colab-badge.svg\" alt=\"Open In Colab\"/></a>"
      ]
    },
    {
      "cell_type": "code",
      "execution_count": 1,
      "metadata": {
        "colab": {
          "base_uri": "https://localhost:8080/"
        },
        "id": "D7hS2YScNVGb",
        "outputId": "89ef9b91-1ea4-46ea-c48c-2f9d82e30c85"
      },
      "outputs": [
        {
          "output_type": "stream",
          "name": "stdout",
          "text": [
            "Requirement already satisfied: pandas in /usr/local/lib/python3.10/dist-packages (1.5.3)\n",
            "Requirement already satisfied: python-dateutil>=2.8.1 in /usr/local/lib/python3.10/dist-packages (from pandas) (2.8.2)\n",
            "Requirement already satisfied: pytz>=2020.1 in /usr/local/lib/python3.10/dist-packages (from pandas) (2023.4)\n",
            "Requirement already satisfied: numpy>=1.21.0 in /usr/local/lib/python3.10/dist-packages (from pandas) (1.25.2)\n",
            "Requirement already satisfied: six>=1.5 in /usr/local/lib/python3.10/dist-packages (from python-dateutil>=2.8.1->pandas) (1.16.0)\n"
          ]
        }
      ],
      "source": [
        "pip install pandas"
      ]
    },
    {
      "cell_type": "code",
      "source": [
        "import pandas as pd\n",
        "import numpy as np"
      ],
      "metadata": {
        "id": "q_UN7pvBO1B8"
      },
      "execution_count": 8,
      "outputs": []
    },
    {
      "cell_type": "code",
      "source": [
        "import pandas\n",
        "pandas.__version__"
      ],
      "metadata": {
        "colab": {
          "base_uri": "https://localhost:8080/",
          "height": 35
        },
        "id": "v8Qloe6MO3Je",
        "outputId": "44d18657-d91e-4c92-e865-fef97bad99c8"
      },
      "execution_count": 9,
      "outputs": [
        {
          "output_type": "execute_result",
          "data": {
            "text/plain": [
              "'1.5.3'"
            ],
            "application/vnd.google.colaboratory.intrinsic+json": {
              "type": "string"
            }
          },
          "metadata": {},
          "execution_count": 9
        }
      ]
    },
    {
      "cell_type": "code",
      "source": [
        "data = pd.Series([0.25,0.5,0.75,1.0])\n",
        "data"
      ],
      "metadata": {
        "colab": {
          "base_uri": "https://localhost:8080/"
        },
        "id": "hZKI8fFpP1Sx",
        "outputId": "b750b38b-c05b-4fdb-8de1-583f22688e03"
      },
      "execution_count": 11,
      "outputs": [
        {
          "output_type": "execute_result",
          "data": {
            "text/plain": [
              "0    0.25\n",
              "1    0.50\n",
              "2    0.75\n",
              "3    1.00\n",
              "dtype: float64"
            ]
          },
          "metadata": {},
          "execution_count": 11
        }
      ]
    },
    {
      "cell_type": "code",
      "source": [
        "data.values"
      ],
      "metadata": {
        "colab": {
          "base_uri": "https://localhost:8080/"
        },
        "id": "n6S7X9tKSEci",
        "outputId": "3409212f-e467-44d2-dff4-0c8f0c412b32"
      },
      "execution_count": 12,
      "outputs": [
        {
          "output_type": "execute_result",
          "data": {
            "text/plain": [
              "array([0.25, 0.5 , 0.75, 1.  ])"
            ]
          },
          "metadata": {},
          "execution_count": 12
        }
      ]
    },
    {
      "cell_type": "code",
      "source": [
        "data.index"
      ],
      "metadata": {
        "colab": {
          "base_uri": "https://localhost:8080/"
        },
        "id": "fgQFH_d1SI_Q",
        "outputId": "79b584c4-a798-4b1f-9531-9b800d79621a"
      },
      "execution_count": 13,
      "outputs": [
        {
          "output_type": "execute_result",
          "data": {
            "text/plain": [
              "RangeIndex(start=0, stop=4, step=1)"
            ]
          },
          "metadata": {},
          "execution_count": 13
        }
      ]
    },
    {
      "cell_type": "code",
      "source": [
        "matrix = [[1,2,3],\n",
        "          ['a','b','c'],\n",
        "          [3,4,5],\n",
        "          ['d',4,6]]\n",
        "matrix_list = pd.DataFrame(matrix)\n",
        "print(\"DataFrame\")\n",
        "print(matrix_list)\n",
        ""
      ],
      "metadata": {
        "colab": {
          "base_uri": "https://localhost:8080/"
        },
        "id": "O2Fbo7bUS8ZU",
        "outputId": "e470b22f-2d7f-4ba7-e64b-9872fea2f7ae"
      },
      "execution_count": 14,
      "outputs": [
        {
          "output_type": "stream",
          "name": "stdout",
          "text": [
            "DataFrame\n",
            "   0  1  2\n",
            "0  1  2  3\n",
            "1  a  b  c\n",
            "2  3  4  5\n",
            "3  d  4  6\n"
          ]
        }
      ]
    },
    {
      "cell_type": "code",
      "source": [
        "number_list = pd.Series([1,2,3,4,5,6])\n",
        "matrix_list = pd.DataFrame([[1,2,3],\n",
        "                           ['a','b','c'],\n",
        "                           [3,4,5],\n",
        "                           ['d',4,6]])\n",
        "#[1] method.info()\n",
        "print(\"[1] method.info()\")\n",
        "print(matrix_list.info())\n",
        "#[2] attribute.shape\n",
        "print(\"\\n[2] attribute.shape\")\n",
        "print(\" shape dari number_list:\", number_list.shape)\n",
        "print(\" shape dari matrix_list:\", matrix_list.shape)\n",
        "#[3] attribute.dtypes\n",
        "print(\"\\n[3] attribute.dtypes\")\n",
        "print(\" tipe data number_list:\", number_list.dtypes)\n",
        "print(\" tipe data matrix_list:\", matrix_list.dtypes)\n",
        "#[4] attribute.astype()\n",
        "print(\"\\n[4] method.astype()\")\n",
        "print(\" konversi number_list ke str:\", number_list.astype(\"str\"))\n",
        "print(\" konversi matrix_list ke str:\", matrix_list.astype(\"str\"))"
      ],
      "metadata": {
        "colab": {
          "base_uri": "https://localhost:8080/"
        },
        "id": "4C54GYL3ZcNF",
        "outputId": "e072d801-0682-462b-a9c9-9bc0c3d29097"
      },
      "execution_count": 16,
      "outputs": [
        {
          "output_type": "stream",
          "name": "stdout",
          "text": [
            "[1] method.info()\n",
            "<class 'pandas.core.frame.DataFrame'>\n",
            "RangeIndex: 4 entries, 0 to 3\n",
            "Data columns (total 3 columns):\n",
            " #   Column  Non-Null Count  Dtype \n",
            "---  ------  --------------  ----- \n",
            " 0   0       4 non-null      object\n",
            " 1   1       4 non-null      object\n",
            " 2   2       4 non-null      object\n",
            "dtypes: object(3)\n",
            "memory usage: 224.0+ bytes\n",
            "None\n",
            "\n",
            "[2] attribute.shape\n",
            " shape dari number_list: (6,)\n",
            " shape dari matrix_list: (4, 3)\n",
            "\n",
            "[3] attribute.dtypes\n",
            " tipe data number_list: int64\n",
            " tipe data matrix_list: 0    object\n",
            "1    object\n",
            "2    object\n",
            "dtype: object\n",
            "\n",
            "[4] method.astype()\n",
            " konversi number_list ke str: 0    1\n",
            "1    2\n",
            "2    3\n",
            "3    4\n",
            "4    5\n",
            "5    6\n",
            "dtype: object\n",
            " konversi matrix_list ke str:    0  1  2\n",
            "0  1  2  3\n",
            "1  a  b  c\n",
            "2  3  4  5\n",
            "3  d  4  6\n"
          ]
        }
      ]
    },
    {
      "cell_type": "code",
      "source": [
        "data = {\n",
        "    'Nama': ['Arfian Purnama', 'Alisa Dityaningrum', 'Kiki Anggraeni', 'Rizky Kurniawan'],\n",
        "    'Gender': ['L', 'P', 'P', 'L'],\n",
        "    'No. Telepon': ['081267001022', '087823560918', '089654009102', '082267018967'],\n",
        "    'Tugas': [80, 89, 76, 80],\n",
        "    'UAS': [88, 78, 90, 81],\n",
        "    'UTS': [90, 89, 85, 82]\n",
        "}\n",
        "\n",
        "# Membuat DataFrame\n",
        "df = pd.DataFrame(data)\n",
        "df[\"Nilai akhir\"] = 0.3 * df[\"Tugas\"] + 0.3 * df[\"UAS\"] + 0.4 * df[\"UTS\"]\n",
        "df\n",
        "# menampilan DataFrame\n",
        "print(df)"
      ],
      "metadata": {
        "colab": {
          "base_uri": "https://localhost:8080/"
        },
        "id": "UYJ3XsKbfQ30",
        "outputId": "6849bd6b-aceb-462a-dd93-56069e5cff1d"
      },
      "execution_count": 19,
      "outputs": [
        {
          "output_type": "stream",
          "name": "stdout",
          "text": [
            "                 Nama Gender   No. Telepon  Tugas  UAS  UTS  Nilai akhir\n",
            "0      Arfian Purnama      L  081267001022     80   88   90         86.4\n",
            "1  Alisa Dityaningrum      P  087823560918     89   78   89         85.7\n",
            "2      Kiki Anggraeni      P  089654009102     76   90   85         83.8\n",
            "3     Rizky Kurniawan      L  082267018967     80   81   82         81.1\n"
          ]
        }
      ]
    }
  ]
}