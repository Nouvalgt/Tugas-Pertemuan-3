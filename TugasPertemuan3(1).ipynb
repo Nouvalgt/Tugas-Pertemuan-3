{
  "nbformat": 4,
  "nbformat_minor": 0,
  "metadata": {
    "colab": {
      "provenance": [],
      "authorship_tag": "ABX9TyO0W4KSHyLmCL9M/ch3lh7w",
      "include_colab_link": true
    },
    "kernelspec": {
      "name": "python3",
      "display_name": "Python 3"
    },
    "language_info": {
      "name": "python"
    }
  },
  "cells": [
    {
      "cell_type": "markdown",
      "metadata": {
        "id": "view-in-github",
        "colab_type": "text"
      },
      "source": [
        "<a href=\"https://colab.research.google.com/github/Nouvalgt/Tugas-Pertemuan-3/blob/main/TugasPertemuan3(1).ipynb\" target=\"_parent\"><img src=\"https://colab.research.google.com/assets/colab-badge.svg\" alt=\"Open In Colab\"/></a>"
      ]
    },
    {
      "cell_type": "code",
      "execution_count": 1,
      "metadata": {
        "id": "R218YGTynpt_"
      },
      "outputs": [],
      "source": [
        "import pandas as pd"
      ]
    },
    {
      "cell_type": "code",
      "source": [
        "data = {\n",
        "    'Nama': ['Arfian Purnama', 'Alisa Dityaningrum', 'Kiki Anggraeni', 'Rizky Kurniawan'],\n",
        "    'Gender': ['L', 'P', 'P', 'L'],\n",
        "    'No. Telepon': ['081267001022', '087823560918', '089654009102', '082267018967']\n",
        "}\n",
        "\n",
        "# Membuat DataFrame\n",
        "df = pd.DataFrame(data)\n",
        "# menampilan DataFrame\n",
        "print(df)"
      ],
      "metadata": {
        "colab": {
          "base_uri": "https://localhost:8080/"
        },
        "id": "w0wn5uvpnu2I",
        "outputId": "7b275128-21ed-49bf-98f5-04c6abefa0ab"
      },
      "execution_count": 2,
      "outputs": [
        {
          "output_type": "stream",
          "name": "stdout",
          "text": [
            "                 Nama Gender   No. Telepon\n",
            "0      Arfian Purnama      L  081267001022\n",
            "1  Alisa Dityaningrum      P  087823560918\n",
            "2      Kiki Anggraeni      P  089654009102\n",
            "3     Rizky Kurniawan      L  082267018967\n"
          ]
        }
      ]
    },
    {
      "cell_type": "code",
      "source": [
        "data = {\n",
        "    'Nama': ['Arfian Purnama', 'Alisa Dityaningrum', 'Kiki Anggraeni', 'Rizky Kurniawan'],\n",
        "    'Gender': ['L', 'P', 'P', 'L'],\n",
        "    'No. Telepon': ['081267001022', '087823560918', '089654009102', '082267018967'],\n",
        "    'Tugas': [80, 89, 76, 80],\n",
        "    'UAS': [88, 78, 90, 81],\n",
        "    'UTS': [90, 89, 85, 82]\n",
        "}\n",
        "\n",
        "# Membuat DataFrame\n",
        "df = pd.DataFrame(data)\n",
        "# menampilan DataFrame\n",
        "print(df)"
      ],
      "metadata": {
        "colab": {
          "base_uri": "https://localhost:8080/"
        },
        "id": "pKCdIs92n2EV",
        "outputId": "57020793-e014-49f3-fb6b-5cd2ca7781f2"
      },
      "execution_count": 3,
      "outputs": [
        {
          "output_type": "stream",
          "name": "stdout",
          "text": [
            "                 Nama Gender   No. Telepon  Tugas  UAS  UTS\n",
            "0      Arfian Purnama      L  081267001022     80   88   90\n",
            "1  Alisa Dityaningrum      P  087823560918     89   78   89\n",
            "2      Kiki Anggraeni      P  089654009102     76   90   85\n",
            "3     Rizky Kurniawan      L  082267018967     80   81   82\n"
          ]
        }
      ]
    },
    {
      "cell_type": "code",
      "source": [
        "data = {\n",
        "    'Nama': ['Arfian Purnama', 'Alisa Dityaningrum', 'Kiki Anggraeni', 'Rizky Kurniawan'],\n",
        "    'Gender': ['L', 'P', 'P', 'L'],\n",
        "    'No. Telepon': ['081267001022', '087823560918', '089654009102', '082267018967'],\n",
        "    'Tugas': [80, 89, 76, 80],\n",
        "    'UAS': [88, 78, 90, 81],\n",
        "    'UTS': [90, 89, 85, 82]\n",
        "}\n",
        "\n",
        "# Membuat DataFrame\n",
        "df = pd.DataFrame(data)\n",
        "df[\"Nilai akhir\"] = 0.3 * df[\"Tugas\"] + 0.3 * df[\"UAS\"] + 0.4 * df[\"UTS\"]\n",
        "df\n",
        "# menampilan DataFrame\n",
        "print(df)"
      ],
      "metadata": {
        "colab": {
          "base_uri": "https://localhost:8080/"
        },
        "id": "vBLZ4lVLn5Wy",
        "outputId": "1b967cb3-0018-4b37-d5f2-b01d0ba6ab35"
      },
      "execution_count": 4,
      "outputs": [
        {
          "output_type": "stream",
          "name": "stdout",
          "text": [
            "                 Nama Gender   No. Telepon  Tugas  UAS  UTS  Nilai akhir\n",
            "0      Arfian Purnama      L  081267001022     80   88   90         86.4\n",
            "1  Alisa Dityaningrum      P  087823560918     89   78   89         85.7\n",
            "2      Kiki Anggraeni      P  089654009102     76   90   85         83.8\n",
            "3     Rizky Kurniawan      L  082267018967     80   81   82         81.1\n"
          ]
        }
      ]
    }
  ]
}